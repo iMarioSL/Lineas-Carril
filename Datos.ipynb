{
 "cells": [
  {
   "cell_type": "markdown",
   "id": "63b51b54-dc0f-4aa2-941a-53c94e2f6b5d",
   "metadata": {},
   "source": [
    "Importamos las librerias a utilizar"
   ]
  },
  {
   "cell_type": "code",
   "execution_count": 1,
   "id": "e0d4ce93-367d-4610-bfae-df2874824230",
   "metadata": {},
   "outputs": [],
   "source": [
    "import pandas as pd\n",
    "import os\n",
    "import glob"
   ]
  },
  {
   "cell_type": "markdown",
   "id": "5090f4cd-5bbb-4c2f-b338-b2617c215c6c",
   "metadata": {},
   "source": [
    "Damos la ruta de los archivos"
   ]
  },
  {
   "cell_type": "code",
   "execution_count": 2,
   "id": "9f64d342-a6ee-49bb-aca3-d1ce96c73499",
   "metadata": {},
   "outputs": [],
   "source": [
    "path = 'Etiquetas'"
   ]
  },
  {
   "cell_type": "markdown",
   "id": "a50d69c4-4ef3-4bdb-9eef-e0af6f3041ae",
   "metadata": {},
   "source": [
    "Cargamos nuestros archivos"
   ]
  },
  {
   "cell_type": "code",
   "execution_count": 3,
   "id": "f847e7ed-8ade-404c-836a-8e58fbdb2a7e",
   "metadata": {},
   "outputs": [],
   "source": [
    "files = os.path.join(\"Etiquetas\", \"*.csv\")\n",
    "files = glob.glob(files)\n",
    "df = pd.concat(map(pd.read_csv, files), ignore_index=False)\n",
    "df = df[[\"etiqueta\", \"x1\", \"y1\", \"x2\", \"y2\", \"imagen\", \"w\", \"h\"]]"
   ]
  },
  {
   "cell_type": "markdown",
   "id": "cdfd9416-412c-4a21-9a40-32f65ec3e7b1",
   "metadata": {},
   "source": [
    "Creamos la funcion para extraer los valores de la imagen"
   ]
  },
  {
   "cell_type": "code",
   "execution_count": 4,
   "id": "97016474-56b4-4a89-a825-0625c63a8277",
   "metadata": {},
   "outputs": [],
   "source": [
    "# Funcion para extraer la subcadena i-esima de la tupla\n",
    "def parametroImagen(subCadena):\n",
    "    \"\"\" \n",
    "    Documentar lo siguiente\n",
    "    Input:\n",
    "    -------    \n",
    "    Output:    \n",
    "    \"\"\"\n",
    "    Pc = 1\n",
    "    c1, c2, c3, c4 = 0, 0, 0, 0\n",
    "    if subCadena[0] == 'linea_carril': \n",
    "        c1 = 1\n",
    "    elif subCadena[0] == 'linea_emergencia': \n",
    "        c2 = 1  \n",
    "    elif subCadena[0] == 'borde_izquierdo': \n",
    "        c3 = 1\n",
    "    elif subCadena[0] == 'borde_derecho': \n",
    "        c4 = 1\n",
    "    x1 = subCadena[1]\n",
    "    y1 = subCadena[2]\n",
    "    x2 = subCadena[3]\n",
    "    y2 = subCadena[4]\n",
    "    w =  subCadena[6]\n",
    "    h = subCadena[7]\n",
    "    return [Pc, c1, c2, c3, c4, x1, y1, x2, y2]"
   ]
  },
  {
   "cell_type": "markdown",
   "id": "89314acc-90fc-42e5-8d62-a0760f1a4049",
   "metadata": {},
   "source": [
    "Ahora vamos a juntar en un solo arreglo los datos que correspondan a la misma imagen"
   ]
  },
  {
   "cell_type": "code",
   "execution_count": 6,
   "id": "fa768bd8-02f5-4949-8ce4-89abfda828b3",
   "metadata": {},
   "outputs": [],
   "source": [
    "# Creamos una lista con los nombres de las imagenes (sin repetir)\n",
    "nombres  = df['imagen'].unique()\n",
    "repeticionesPorImagen = []\n",
    "datosImagenes = []\n",
    "\n",
    "for nombre in nombres:\n",
    "    repeticionesPorImagen.append(list(df['imagen']).count(nombre))\n",
    "\n",
    "# Aqui vamos a crear un arreglo con los datos de una misma imagen\n",
    "# para recorrernos en todas las imagenes usaremos slices del tipo [n, n + x].\n",
    "n = 0\n",
    "pivote = 0\n",
    "for pivoteTemp in repeticionesPorImagen:\n",
    "    pivote = pivoteTemp + n\n",
    "    datosImagenes.append(df[n:pivote].to_numpy())\n",
    "    n += pivoteTemp"
   ]
  },
  {
   "cell_type": "markdown",
   "id": "f640e509-a2a6-4029-909b-53d5a2d1c061",
   "metadata": {},
   "source": [
    "Vectores generales"
   ]
  },
  {
   "cell_type": "code",
   "execution_count": 83,
   "id": "44ce2945-e173-4114-a79c-0c63820732f9",
   "metadata": {},
   "outputs": [],
   "source": [
    "VectorGeneral = []\n",
    "VectorTemp = []\n",
    "flagEmergencia = 0\n",
    "\n",
    "# Cargamos las dimensiones de las imagenes de cualquier arreglo\n",
    "w = datosImagenes[0][0][-2]\n",
    "h = datosImagenes[0][0][-1]\n",
    "\n",
    "# Iteramos sobre el numero de datos de imagenes que tenemos\n",
    "# en este caso son 972\n",
    "for i in range(len(datosImagenes)):\n",
    "    # Aqui vamos a iterar sobre los arreglos de datos de cada imagen\n",
    "    for j in range(len(datosImagenes[i])):   \n",
    "        # Extraemos la fila de parametros de la imagen dada una etiqueta\n",
    "        datosImagenVec = parametroImagen(datosImagenes[i][j])\n",
    "        VectorTemp.append(datosImagenVec)\n",
    "        # Banderas de BordeIzquierdo, BordeDerecho y LineaDeEmergencia\n",
    "        flagE = datosImagenVec[2]\n",
    "        flagBordeIzquierdo = datosImagenVec[3]\n",
    "        flagBordeDerecho = datosImagenVec[4]     \n",
    "    while len(VectorTemp) < 7:\n",
    "        # Aqui verificamos si ya tenemos un registro de linea de emergencia\n",
    "        if flagE == 1:\n",
    "            VectorTemp.append([0, 1, 0, 0, 0, 0, 0, 0, 0])\n",
    "        # Aqui verificamos si ya tenemos un registro de borde derecho\n",
    "        elif flagBordeDerecho == 0:\n",
    "            VectorTemp.append([0, 0, 0, 0, 1, 0, 0, 0, 0])\n",
    "            flagBordeDerecho = 1\n",
    "        # Aqui verificamos si ya tenemos un registro de borde izquierdo\n",
    "        elif flagBordeIzquierdo == 0:\n",
    "            VectorTemp.append([0, 0, 0, 1, 0, 0, 0, 0, 0])\n",
    "            flagBordeIzquierdo = 1\n",
    "        # Por ultimo agregamos las lineas de carril en las posiciones sobrantes\n",
    "        else:\n",
    "            VectorTemp.append([0, 0, 1, 0, 0, 0, 0, 0, 0])\n",
    "            flagE = 1 # Dado que ya habremos agregado la linea de Emergancia           \n",
    "    VectorGeneral.append(VectorTemp) # Cargamos la fila de valores al VectorGeneral\n",
    "    VectorTemp = [] # Reseteamos nuestro vector temporal    \n",
    "    \n",
    "# Aplanado del vector\n",
    "VectorGeneralAplanado = []\n",
    "flat_list = []\n",
    "\n",
    "for item in VectorGeneral:\n",
    "    for l in item:\n",
    "        flat_list += l\n",
    "    flat_list.extend([w, h])\n",
    "    VectorGeneralAplanado.append(flat_list)\n",
    "    flat_list = []"
   ]
  },
  {
   "cell_type": "markdown",
   "id": "b4767891-e323-4cdb-a0a9-07141fa5b901",
   "metadata": {},
   "source": [
    "De modo que tenemos el siguiente vector para la imagen No.941"
   ]
  },
  {
   "cell_type": "code",
   "execution_count": 84,
   "id": "03f647ec-7937-4707-a216-7099f97e40cc",
   "metadata": {},
   "outputs": [
    {
     "data": {
      "text/plain": [
       "[[1, 0, 0, 1, 0, 7, 425, 298, 380],\n",
       " [1, 0, 0, 0, 1, 912, 392, 648, 364],\n",
       " [1, 1, 0, 0, 0, 296, 497, 451, 366],\n",
       " [1, 1, 0, 0, 0, 335, 494, 461, 371],\n",
       " [1, 1, 0, 0, 0, 748, 481, 546, 371],\n",
       " [1, 1, 0, 0, 0, 860, 409, 619, 371],\n",
       " [0, 0, 0, 0, 1, 0, 0, 0, 0]]"
      ]
     },
     "execution_count": 84,
     "metadata": {},
     "output_type": "execute_result"
    }
   ],
   "source": [
    "VectorGeneral[941]"
   ]
  },
  {
   "cell_type": "markdown",
   "id": "1b5dfeee-ffdc-431a-b18e-21e782c2c875",
   "metadata": {},
   "source": [
    "Ahora vemos el vector aplanado"
   ]
  },
  {
   "cell_type": "code",
   "execution_count": 77,
   "id": "1a1434ae-c2af-4651-b26c-bb6b2b4d8d81",
   "metadata": {},
   "outputs": [
    {
     "name": "stdout",
     "output_type": "stream",
     "text": [
      "[1, 0, 0, 1, 0, 7, 425, 298, 380, 1, 0, 0, 0, 1, 912, 392, 648, 364, 1, 1, 0, 0, 0, 296, 497, 451, 366, 1, 1, 0, 0, 0, 335, 494, 461, 371, 1, 1, 0, 0, 0, 748, 481, 546, 371, 1, 1, 0, 0, 0, 860, 409, 619, 371, 0, 0, 0, 0, 1, 0, 0, 0, 0, 960.0, 540]\n"
     ]
    }
   ],
   "source": [
    "print(VectorGeneralAplanado[941])"
   ]
  },
  {
   "cell_type": "markdown",
   "id": "f2adcd3f-9269-47c7-9bf9-c5b04de93e8e",
   "metadata": {},
   "source": [
    "## TODO:\n",
    "-  ~~Dejar solo un parametro $w$ y $h$ para el arreglo __Prueba[i]__~~\n",
    "- ~~Determinar como calcular $P_c$~~\n",
    "- ~~Asegurarse de que cada $i$-esimo subtable de la tabla general contenga 65 elementos~~\n",
    "- ~~Refactorizar y simplificar codigo existente~~\n",
    "- Escribir $\\LaTeX$\n",
    "- Documentar"
   ]
  },
  {
   "cell_type": "code",
   "execution_count": null,
   "id": "5c26f58a-71c1-4e59-9e06-45c2ceb69bb4",
   "metadata": {},
   "outputs": [],
   "source": []
  }
 ],
 "metadata": {
  "kernelspec": {
   "display_name": "Python 3",
   "language": "python",
   "name": "python3"
  },
  "language_info": {
   "codemirror_mode": {
    "name": "ipython",
    "version": 3
   },
   "file_extension": ".py",
   "mimetype": "text/x-python",
   "name": "python",
   "nbconvert_exporter": "python",
   "pygments_lexer": "ipython3",
   "version": "3.10.4"
  }
 },
 "nbformat": 4,
 "nbformat_minor": 5
}
