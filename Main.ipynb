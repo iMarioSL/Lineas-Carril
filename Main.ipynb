{
 "cells": [
  {
   "cell_type": "markdown",
   "id": "9dbb2f6a-4aa1-408c-a600-82e3695ccfdc",
   "metadata": {},
   "source": [
    "### Vamos a cargar los datos"
   ]
  },
  {
   "cell_type": "code",
   "execution_count": 1,
   "id": "345e6a2a-1316-4d7b-9847-f7e884dc2108",
   "metadata": {},
   "outputs": [],
   "source": [
    "from arreglo_datos import vectorDatos\n",
    "from preprocesamiento_de_datos import vectorImagenes"
   ]
  },
  {
   "cell_type": "code",
   "execution_count": 2,
   "id": "4eeef525-dfc7-43e1-96d1-bccd217c351e",
   "metadata": {},
   "outputs": [],
   "source": [
    "path = 'C:\\\\Users\\\\masan\\\\Desktop\\\\Mario\\\\ESFM\\\\Octavo Semestre\\\\Servicio Social\\\\Etiquetas'\n",
    "dic_nombre_marcas = vectorDatos(path)"
   ]
  },
  {
   "cell_type": "markdown",
   "id": "d6d996ce-1aa4-45d7-93a6-34f4449fdf6f",
   "metadata": {},
   "source": [
    "#### Vamos a dividir los datos en conjunto de entrenamiento y testeo (80-20)."
   ]
  },
  {
   "cell_type": "code",
   "execution_count": 3,
   "id": "2ea67635-c6bb-4630-b538-2a2424058c12",
   "metadata": {},
   "outputs": [],
   "source": [
    "# Vamos a extraer los datos de cada imagen para poder hacer el split de datos.\n",
    "vectorDeDatos = []\n",
    "nombreDeImagenes = []\n",
    "for key in dic_nombre_marcas.keys():\n",
    "    vectorDeDatos.append(dic_nombre_marcas[key])\n",
    "    nombreDeImagenes.append(key)"
   ]
  },
  {
   "cell_type": "code",
   "execution_count": 4,
   "id": "58644e86-d8b1-45b7-86b7-51823096d87e",
   "metadata": {},
   "outputs": [],
   "source": [
    "entrenamiento = int(0.8*len(vectorDeDatos))\n",
    "datos_entrenamiento = vectorDeDatos[:entrenamiento]\n",
    "datos_testeo = vectorDeDatos[entrenamiento:]"
   ]
  },
  {
   "cell_type": "code",
   "execution_count": 6,
   "id": "c765483e-68f0-4d85-ab3e-030959df4ed1",
   "metadata": {},
   "outputs": [],
   "source": [
    "path = 'C:\\\\Users\\\\masan\\\\Desktop\\\\Mario\\\\ESFM\\\\Octavo Semestre\\\\Servicio Social\\\\imagenes'\n",
    "dic_nombre_imagenes = vectorImagenes(nombreDeImagenes, path)"
   ]
  },
  {
   "cell_type": "code",
   "execution_count": null,
   "id": "615e31d3-59f6-4d87-a8db-f804b4c96bbb",
   "metadata": {},
   "outputs": [],
   "source": []
  }
 ],
 "metadata": {
  "kernelspec": {
   "display_name": "Python cHido (pytorch)",
   "language": "python",
   "name": "pytorch"
  },
  "language_info": {
   "codemirror_mode": {
    "name": "ipython",
    "version": 3
   },
   "file_extension": ".py",
   "mimetype": "text/x-python",
   "name": "python",
   "nbconvert_exporter": "python",
   "pygments_lexer": "ipython3",
   "version": "3.6.13"
  }
 },
 "nbformat": 4,
 "nbformat_minor": 5
}
